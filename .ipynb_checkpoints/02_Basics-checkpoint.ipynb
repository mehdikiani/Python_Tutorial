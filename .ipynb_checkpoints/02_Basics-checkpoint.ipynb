{
 "cells": [
  {
   "cell_type": "markdown",
   "id": "29cb0328-8002-48d6-942c-bb7324c54c9f",
   "metadata": {
    "jp-MarkdownHeadingCollapsed": true
   },
   "source": [
    "# <font color=\"blue\">1) Python Indentation</font>"
   ]
  },
  {
   "cell_type": "markdown",
   "id": "8b4ea3cc-9cc0-432a-bba5-dd172c54ee29",
   "metadata": {},
   "source": [
    "\n",
    "Indentation is a fundamental aspect of Python syntax. Unlike many other programming languages that use braces `{}` to define blocks of code, Python uses **indentation** to indicate the grouping of statements. This makes Python code visually clean and easy to read.\n",
    "\n",
    "---\n",
    "\n",
    "## Why is Indentation Important in Python?\n",
    "- Indentation is **mandatory** in Python.\n",
    "- It defines the structure and hierarchy of the code.\n",
    "- Incorrect indentation will result in **IndentationError**, causing your program to fail.\n",
    "\n",
    "---\n",
    "\n",
    "## Rules for Indentation\n",
    "1. **Use Consistent Spaces or Tabs**:\n",
    "   - Python recommends using **4 spaces** per indentation level.\n",
    "   - Do not mix tabs and spaces, as it can lead to errors.\n",
    "2. **Indentation Defines Blocks**:\n",
    "   - Statements with the same level of indentation belong to the same block.\n",
    "   - For example, the body of a loop or a function is indented under it.\n",
    "3. **Unindented Code Ends the Block**:\n",
    "   - When the indentation level decreases, the block ends.\n",
    "\n",
    "---\n",
    "\n",
    "## Examples of Indentation\n",
    "\n",
    "### Example 1: Indentation in a Function\n",
    "```python\n",
    "def greet(name):\n",
    "    # This is the body of the function (indented)\n",
    "    print(f\"Hello, {name}!\")\n",
    "\n",
    "# This is outside the function (not indented)\n",
    "greet(\"Alice\")"
   ]
  },
  {
   "cell_type": "code",
   "execution_count": 1,
   "id": "52dc1f3f-3493-4610-aa4b-704bdf5df528",
   "metadata": {},
   "outputs": [
    {
     "name": "stdout",
     "output_type": "stream",
     "text": [
      "Hello, Alice!\n"
     ]
    }
   ],
   "source": [
    "# Function Indentation\n",
    "\n",
    "def greet(name):\n",
    "    # This is the body of the function (indented)\n",
    "    print(f\"Hello, {name}!\")\n",
    "\n",
    "# This is outside the function (not indented)\n",
    "greet(\"Alice\")"
   ]
  },
  {
   "cell_type": "code",
   "execution_count": 2,
   "id": "b6061e00-0f96-47f1-9ebe-c9596e148403",
   "metadata": {},
   "outputs": [
    {
     "name": "stdout",
     "output_type": "stream",
     "text": [
      "0\n",
      "1\n",
      "i is 1\n",
      "2\n"
     ]
    }
   ],
   "source": [
    "#indentation with loop and condition\n",
    "\n",
    "for i in range(3):\n",
    "    # This is the body of the loop (indented)\n",
    "    print(i)\n",
    "    if i == 1:\n",
    "        # This is a nested block (further indented)\n",
    "        print(\"i is 1\")"
   ]
  },
  {
   "cell_type": "code",
   "execution_count": 3,
   "id": "75da179b-548d-45e5-8249-c3d8782cf6a7",
   "metadata": {},
   "outputs": [
    {
     "ename": "IndentationError",
     "evalue": "expected an indented block after function definition on line 3 (2067953702.py, line 4)",
     "output_type": "error",
     "traceback": [
      "\u001b[1;36m  Cell \u001b[1;32mIn[3], line 4\u001b[1;36m\u001b[0m\n\u001b[1;33m    print(a + b)  # This will raise an IndentationError\u001b[0m\n\u001b[1;37m    ^\u001b[0m\n\u001b[1;31mIndentationError\u001b[0m\u001b[1;31m:\u001b[0m expected an indented block after function definition on line 3\n"
     ]
    }
   ],
   "source": [
    "# Indentation Error!\n",
    "\n",
    "def add(a, b):\n",
    "print(a + b)  # This will raise an IndentationError"
   ]
  },
  {
   "cell_type": "markdown",
   "id": "993e5a9a-c2f5-4100-9c22-b1454531074d",
   "metadata": {
    "jp-MarkdownHeadingCollapsed": true
   },
   "source": [
    "# <font color=\"blue\">2) Comments and Docstrings</font>\n"
   ]
  },
  {
   "cell_type": "markdown",
   "id": "59365caf-8aa8-4ba5-a5fa-7fdfe71fb594",
   "metadata": {},
   "source": [
    "\n",
    "Comments and docstrings are essential for making your Python code more readable and maintainable. They help explain the purpose of the code, document functionality, and make it easier for others (or yourself) to understand the code later.\n",
    "\n",
    "---\n",
    "\n",
    "## 1. **Comments**\n",
    "Comments are lines in your code that are ignored by the Python interpreter. They are used to explain what the code does or to temporarily disable parts of the code.\n",
    "\n",
    "### Types of Comments:\n",
    "1. **Single-Line Comments**:\n",
    "   - Use the `#` symbol to create a single-line comment.\n",
    "   - Example:\n",
    "     ```python\n",
    "     # This is a single-line comment\n",
    "     print(\"Hello, World!\")  # This comment explains the print statement\n",
    "     ```\n",
    "\n",
    "2. **Multi-Line Comments**:\n",
    "   - Python does not have a specific syntax for multi-line comments. Instead, you can use multiple `#` symbols or a multi-line string (though the latter is not technically a comment).\n",
    "   - Example:\n",
    "     ```python\n",
    "     # This is a multi-line comment\n",
    "     # created using multiple single-line comments.\n",
    "     print(\"Hello, Python!\")\n",
    "     ```\n",
    "\n",
    "---\n",
    "\n",
    "## 2. **Docstrings**\n",
    "Docstrings are used to document Python modules, functions, classes, and methods. They are written as multi-line strings enclosed in triple quotes (`\"\"\"` or `'''`).\n",
    "\n",
    "### Key Features of Docstrings:\n",
    "- They are placed immediately after the definition of a function, class, or module.\n",
    "- They can be accessed using the `__doc__` attribute or the `help()` function.\n",
    "- They follow a specific format (e.g., Google style, NumPy style, or reStructuredText).\n",
    "\n",
    "### Example of a Function Docstring:\n",
    "```python\n",
    "def add(a, b):\n",
    "    \"\"\"\n",
    "    This function adds two numbers.\n",
    "\n",
    "    Parameters:\n",
    "    a (int or float): The first number.\n",
    "    b (int or float): The second number.\n",
    "\n",
    "    Returns:\n",
    "    int or float: The sum of the two numbers.\n",
    "    \"\"\"\n",
    "    return a + b\n",
    "\n",
    "# Accessing the docstring\n",
    "print(add.__doc__)"
   ]
  },
  {
   "cell_type": "code",
   "execution_count": 4,
   "id": "61d5cd83-ccdb-4297-b43c-9f47a50c6e17",
   "metadata": {},
   "outputs": [
    {
     "name": "stdout",
     "output_type": "stream",
     "text": [
      "\n",
      "    This function adds two numbers.\n",
      "\n",
      "    Parameters:\n",
      "    a (int or float): The first number.\n",
      "    b (int or float): The second number.\n",
      "\n",
      "    Returns:\n",
      "    int or float: The sum of the tqo numbers.\n",
      "    \n"
     ]
    }
   ],
   "source": [
    "#Example of docstrings\n",
    "def add (a, b):\n",
    "    '''\n",
    "    This function adds two numbers.\n",
    "\n",
    "    Parameters:\n",
    "    a (int or float): The first number.\n",
    "    b (int or float): The second number.\n",
    "\n",
    "    Returns:\n",
    "    int or float: The sum of the tqo numbers.\n",
    "    '''\n",
    "    return a + b\n",
    "\n",
    "print(add.__doc__)\n"
   ]
  },
  {
   "cell_type": "code",
   "execution_count": 5,
   "id": "0d5d2907-ad02-416d-b2de-7dc61e916eed",
   "metadata": {},
   "outputs": [
    {
     "name": "stdout",
     "output_type": "stream",
     "text": [
      "Help on function add in module __main__:\n",
      "\n",
      "add(a, b)\n",
      "    This function adds two numbers.\n",
      "\n",
      "    Parameters:\n",
      "    a (int or float): The first number.\n",
      "    b (int or float): The second number.\n",
      "\n",
      "    Returns:\n",
      "    int or float: The sum of the tqo numbers.\n",
      "\n"
     ]
    }
   ],
   "source": [
    "# getting docsting using `help` function\n",
    "help(add)"
   ]
  },
  {
   "cell_type": "code",
   "execution_count": 6,
   "id": "5bf00864-b1da-4093-9426-ee83e6eb96f1",
   "metadata": {},
   "outputs": [
    {
     "name": "stdout",
     "output_type": "stream",
     "text": [
      "A simple calculator class to perform basic arithmetic operations.\n",
      "Adds two numbers.\n"
     ]
    }
   ],
   "source": [
    "# Example of class doc strings:\n",
    "\n",
    "class Calculator:\n",
    "    \"\"\"A simple calculator class to perform basic arithmetic operations.\"\"\"\n",
    "\n",
    "    def add(self, a, b):\n",
    "        \"\"\"Adds two numbers.\"\"\"\n",
    "        return a + b\n",
    "\n",
    "\n",
    "# Accessing the docstring of the class\n",
    "print(Calculator.__doc__)\n",
    "\n",
    "# Accessing the docstring of the class mwthod\n",
    "print(Calculator.add.__doc__)\n"
   ]
  },
  {
   "cell_type": "markdown",
   "id": "1064a2ab-e5d2-4116-a2bf-5082232193cd",
   "metadata": {
    "jp-MarkdownHeadingCollapsed": true
   },
   "source": [
    "# <font color=\"blue\">3) Variables</font>"
   ]
  },
  {
   "cell_type": "markdown",
   "id": "035c5d6e-eb1f-44a5-b1e7-699e458ca644",
   "metadata": {},
   "source": [
    "Variables are used to store data in Python, and data types define the kind of data a variable can hold. Understanding variables and data types is essential for writing effective Python programs.\n",
    "\n",
    "---\n",
    "\n",
    "- A variable is a named location in memory used to store data.\n",
    "- Variables are created when you assign a value to them using the `=` operator.\n",
    "- Variable names must follow these rules:\n",
    "  - Start with a letter or underscore (`_`).\n",
    "  - Can contain letters, numbers, and underscores.\n",
    "  - Cannot be a Python keyword (e.g., `if`, `for`, `while`).\n",
    "  - Are case-sensitive (`myVar` and `myvar` are different).\n",
    "\n",
    "### Example:\n",
    "```python\n",
    "# Creating variables\n",
    "name = \"Alice\"\n",
    "age = 25\n",
    "height = 5.6\n",
    "is_student = True\n",
    "\n",
    "# Printing variables\n",
    "print(name)        # Output: Alice\n",
    "print(age)         # Output: 25\n",
    "print(height)      # Output: 5.6\n",
    "print(is_student)  # Output: True"
   ]
  },
  {
   "cell_type": "markdown",
   "id": "b9d78d51-f258-4bf0-b68b-2a1f6e3bfeb7",
   "metadata": {
    "jp-MarkdownHeadingCollapsed": true
   },
   "source": [
    "# <font color=\"blue\">4) Data Types</font>"
   ]
  },
  {
   "cell_type": "markdown",
   "id": "4f8bc03e-fc73-4d0b-ac73-1e65dfb53f0a",
   "metadata": {},
   "source": [
    "Python has several built-in data types. The most common ones are:\n",
    "\n",
    "## Numeric Types:\n",
    "Integers (int): Whole numbers (e.g., 10, -5, 0).\n",
    "\n",
    "## Floats (float):\n",
    "Decimal numbers (e.g., 3.14, -0.001).\n",
    "\n",
    "## Complex Numbers (complex): \n",
    "Numbers with real and imaginary parts (e.g., 1 + 2j).\n",
    "\n",
    "## Text Type:\n",
    "Strings (str): Sequences of characters enclosed in quotes (e.g., \"Hello\", 'Python').\n",
    "\n",
    "## Boolean Type:\n",
    "Booleans (bool): Represents True or False.\n",
    "\n",
    "## Sequence Types:\n",
    "1. Lists (list): Ordered, mutable collections (e.g., [1, 2, 3]).\n",
    "\n",
    "2. Tuples (tuple): \n",
    "Ordered, immutable collections (e.g., (1, 2, 3)).\n",
    "\n",
    "3. Ranges (range): \n",
    "Sequences of numbers (e.g., range(5)).\n",
    "\n",
    "## Mapping Type:\n",
    "Dictionaries (dict): Key-value pairs (e.g., {\"name\": \"Alice\", \"age\": 25}).\n",
    "\n",
    "## Set Types:\n",
    "Sets (set): Unordered, <mark>unique</mark> collections (e.g., {1, 2, 3}).\n",
    "\n",
    "## Frozen Sets (frozenset): \n",
    "Immutable sets.\n",
    "\n",
    "## None Type:\n",
    "None: Represents the absence of a value (e.g., x = None).\n",
    "\n",
    "## Checking Data Types\n",
    "You can check the data type of a variable using the type() function.\n",
    "```python\n",
    "print(\"type(10)\") #outputs <class 'int'>\n"
   ]
  },
  {
   "cell_type": "markdown",
   "id": "394c5bde-42af-4cd2-b66c-189ea2e5b23d",
   "metadata": {
    "jp-MarkdownHeadingCollapsed": true
   },
   "source": [
    "# <font color=\"blue\">5) Data types Examples</font>"
   ]
  },
  {
   "cell_type": "code",
   "execution_count": 7,
   "id": "322e8c30-12aa-4bf0-9ee6-1bf7e372621f",
   "metadata": {},
   "outputs": [
    {
     "name": "stdout",
     "output_type": "stream",
     "text": [
      "10 is type of <class 'int'>\n",
      "\n",
      "3.14 is type of <class 'float'>\n",
      "\n",
      "'Hello' is type of <class 'str'>\n",
      "\n",
      "True is type of <class 'bool'>\n",
      "\n",
      "[1, 2, 3] is type of <class 'list'>\n",
      "\n",
      "{'a':1} is type of <class 'dict'>\n",
      "\n",
      "{1, 2, 3} is type of <class 'set'>\n",
      "\n",
      "(1,2,3) is type of <class 'tuple'>\n",
      "\n",
      "None is typeof <class 'NoneType'>\n",
      "\n"
     ]
    }
   ],
   "source": [
    "#Type checking\n",
    "\n",
    "print(f\"10 is type of {type(10)}\\n\")\n",
    "print(f\"3.14 is type of {type(3.14)}\\n\")\n",
    "print(f\"'Hello' is type of {type(\"Hello\")}\\n\")\n",
    "print(f\"True is type of {type(True)}\\n\")\n",
    "print(f\"[1, 2, 3] is type of {type([1, 2, 3])}\\n\")\n",
    "print(f\"{{'a':1}} is type of {type({'a': 1})}\\n\")\n",
    "print(f\"{{1, 2, 3}} is type of {type({1, 2, 3})}\\n\")\n",
    "print(f\"(1,2,3) is type of {type((1,2,3))}\\n\")\n",
    "print(f\"None is typeof {type(None)}\\n\")\n"
   ]
  },
  {
   "cell_type": "code",
   "execution_count": 8,
   "id": "b9157ee3-36a0-4245-b38e-658b0d49d568",
   "metadata": {},
   "outputs": [
    {
     "name": "stdout",
     "output_type": "stream",
     "text": [
      "<class 'int'>\n",
      "<class 'str'>\n"
     ]
    }
   ],
   "source": [
    "#Dynamic Typing\n",
    "\n",
    "x = 10        # x is an integer\n",
    "print(type(x))  # Output: <class 'int'>\n",
    "\n",
    "x = \"Hello\"   # x is now a string\n",
    "print(type(x))  # Output: <class 'str'>"
   ]
  },
  {
   "cell_type": "code",
   "execution_count": 9,
   "id": "9f7764ac-19e1-4703-a3d2-53c0e1c83c32",
   "metadata": {},
   "outputs": [
    {
     "name": "stdout",
     "output_type": "stream",
     "text": [
      "10\n",
      "10.0\n",
      "False\n"
     ]
    }
   ],
   "source": [
    "# Type Conversion\n",
    "\n",
    "num_str = \"10\"\n",
    "num_int = int(num_str)  # Convert string to integer\n",
    "print(num_int)          # Output: 10\n",
    "\n",
    "num_float = float(num_int)  # Convert integer to float\n",
    "print(num_float)            # Output: 10.0\n",
    "\n",
    "bool_val = bool(0)  # Convert integer to boolean\n",
    "print(bool_val)     # Output: False"
   ]
  },
  {
   "cell_type": "markdown",
   "id": "81ac5bc0-7a6f-4416-bae4-a326fb3a2a45",
   "metadata": {
    "jp-MarkdownHeadingCollapsed": true
   },
   "source": [
    "# <font color=\"blue\">6) Basic Input/Output (print(), input())</font>"
   ]
  },
  {
   "cell_type": "markdown",
   "id": "56f1e653-f330-444e-912d-2c2cfc2ce8fd",
   "metadata": {},
   "source": [
    "Input and output (I/O) operations are essential for interacting with users and displaying results in Python. The `print()` function is used to output data, while the `input()` function is used to take user input.\n",
    "\n",
    "---\n",
    "\n",
    "## **Output with `print()`**\n",
    "The `print()` function is used to display text or variables to the console.\n",
    "\n",
    "### Syntax:\n",
    "```python\n",
    "print(value1, value2, ..., sep=' ', end='\\n', file=sys.stdout, flush=False)\n",
    "```\n",
    "---\n",
    "Parameters:\n",
    "* **value1, value2, ...:** Values to be printed (can be strings, numbers, variables, etc.\n",
    "* **sep:** Separator between values (default is a space ' ').\n",
    "* **end:** Character to be printed at the end (default is a newline '\\n').\n",
    "* **file:** Output destination (default is the console)."
   ]
  },
  {
   "cell_type": "code",
   "execution_count": 57,
   "id": "e02d1c61-d6e6-4288-964f-1c8e072705dd",
   "metadata": {},
   "outputs": [
    {
     "name": "stdout",
     "output_type": "stream",
     "text": [
      "Hello, World!\n",
      "Name: Alice Age: 25\n",
      "Python-is-fun\n",
      "Hello World!\n"
     ]
    }
   ],
   "source": [
    "# Examples\n",
    "\n",
    "# Basic usage\n",
    "print(\"Hello, World!\")  # Output: Hello, World!\n",
    "\n",
    "# Printing multiple values\n",
    "name = \"Alice\"\n",
    "age = 25\n",
    "print(\"Name:\", name, \"Age:\", age)  # Output: Name: Alice Age: 25\n",
    "\n",
    "# Custom separator\n",
    "print(\"Python\", \"is\", \"fun\", sep=\"-\")  # Output: Python-is-fun\n",
    "\n",
    "# Custom end character\n",
    "print(\"Hello\", end=\" \")\n",
    "print(\"World!\")  # Output: Hello World!"
   ]
  },
  {
   "cell_type": "markdown",
   "id": "715ca024-662d-4348-a467-da21e3f26119",
   "metadata": {},
   "source": [
    "## **Input with `input()`**"
   ]
  },
  {
   "cell_type": "markdown",
   "id": "d42154d5-641b-43c8-8ac2-66f2ef65d6f8",
   "metadata": {},
   "source": [
    "The input() function is used to take user input from the console. It always returns the input as a string.\n",
    "\n",
    "**Syntax**\n",
    "```python\n",
    "input(prompt)\n",
    "```\n",
    "**prompt**: A string message displayed to the user (optional)."
   ]
  },
  {
   "cell_type": "code",
   "execution_count": 59,
   "id": "914199cb-6b88-4d96-85d5-f007731fef1e",
   "metadata": {},
   "outputs": [
    {
     "name": "stdin",
     "output_type": "stream",
     "text": [
      "Enter your name:  Mehdi\n"
     ]
    },
    {
     "name": "stdout",
     "output_type": "stream",
     "text": [
      "Hello, Mehdi\n"
     ]
    },
    {
     "name": "stdin",
     "output_type": "stream",
     "text": [
      "Enter your age:  35\n"
     ]
    },
    {
     "name": "stdout",
     "output_type": "stream",
     "text": [
      "You are 35 years old.\n"
     ]
    }
   ],
   "source": [
    "# Basic input examples\n",
    "name = input(\"Enter your name: \")\n",
    "print(\"Hello,\", name)\n",
    "\n",
    "# Input with type conversion\n",
    "age = int(input(\"Enter your age: \"))\n",
    "print(\"You are\", age, \"years old.\")"
   ]
  },
  {
   "cell_type": "markdown",
   "id": "8791f150-42a6-4832-876f-cc3d0f2f60ef",
   "metadata": {},
   "source": [
    " ## **Combining Input and Output**\n",
    "\n",
    "You can combine `input()` and `print()` to create interactive programs.\n",
    "\n",
    "**Example**\n",
    "```python\n",
    "# Simple calculator\n",
    "num1 = float(input(\"Enter the first number: \"))\n",
    "num2 = float(input(\"Enter the second number: \"))\n",
    "sum = num1 + num2\n",
    "print(f\"The sum of {num1} and {num2} is {sum}.\")\n",
    "```"
   ]
  },
  {
   "cell_type": "code",
   "execution_count": 55,
   "id": "bdc15d35-56f7-4d53-90ba-3a2762bed31e",
   "metadata": {},
   "outputs": [
    {
     "name": "stdin",
     "output_type": "stream",
     "text": [
      "Enter the first number:  10\n",
      "Enter the second number:  20\n"
     ]
    },
    {
     "name": "stdout",
     "output_type": "stream",
     "text": [
      "The sum of 10.0 and 20.0 is 30.0.\n"
     ]
    }
   ],
   "source": [
    "# Simple calculator\n",
    "num1 = float(input(\"Enter the first number: \"))\n",
    "num2 = float(input(\"Enter the second number: \"))\n",
    "sum = num1 + num2\n",
    "print(f\"The sum of {num1} and {num2} is {sum}.\")"
   ]
  },
  {
   "cell_type": "markdown",
   "id": "bf839a6d-54bb-4a51-b794-558da12071bb",
   "metadata": {},
   "source": [
    "## **Formatting Output**\n",
    "\n",
    "Python provides several ways to format output for better readability.\n",
    "\n",
    "### Using `f-strings` (Python 3.6+):\n",
    "```python\n",
    "name = \"Alice\"\n",
    "age = 25\n",
    "print(f\"{name} is {age} years old.\")  # Output: Alice is 25 years old.\n",
    "```\n",
    "\n",
    "### Using `str.format()`\n",
    "```python\n",
    "name = \"Alice\"\n",
    "age = 25\n",
    "print(\"{} is {} years old.\".format(name, age))  # Output: Alice is 25 years old.\n",
    "```\n",
    "\n",
    "### Using `% formatting` (older style):\n",
    "```python\n",
    "name = \"Alice\"\n",
    "age = 25\n",
    "print(\"%s is %d years old.\" % (name, age))  # Output: Alice is 25 years old.\n",
    "```"
   ]
  },
  {
   "cell_type": "code",
   "execution_count": 56,
   "id": "263ca81b-c821-4f19-a636-a1a2f93a11fc",
   "metadata": {},
   "outputs": [
    {
     "name": "stdin",
     "output_type": "stream",
     "text": [
      "Enter your name:  Mehdi\n",
      "Enter your age:  35\n",
      "Enter your height (in meters):  1.6\n"
     ]
    },
    {
     "name": "stdout",
     "output_type": "stream",
     "text": [
      "\n",
      "--- Your Details ---\n",
      "Name: Mehdi\n",
      "Age: 35\n",
      "Height: 1.6 meters\n"
     ]
    }
   ],
   "source": [
    "#Examples\n",
    "# Basic Input/Output Example\n",
    "name = input(\"Enter your name: \")\n",
    "age = int(input(\"Enter your age: \"))\n",
    "height = float(input(\"Enter your height (in meters): \"))\n",
    "\n",
    "# Displaying the information\n",
    "print(\"\\n--- Your Details ---\")\n",
    "print(f\"Name: {name}\")\n",
    "print(f\"Age: {age}\")\n",
    "print(f\"Height: {height} meters\")"
   ]
  },
  {
   "cell_type": "code",
   "execution_count": null,
   "id": "d410b915-fd6c-436f-a36b-beb9ab0f126a",
   "metadata": {},
   "outputs": [],
   "source": []
  }
 ],
 "metadata": {
  "kernelspec": {
   "display_name": "Python 3 (ipykernel)",
   "language": "python",
   "name": "python3"
  },
  "language_info": {
   "codemirror_mode": {
    "name": "ipython",
    "version": 3
   },
   "file_extension": ".py",
   "mimetype": "text/x-python",
   "name": "python",
   "nbconvert_exporter": "python",
   "pygments_lexer": "ipython3",
   "version": "3.12.3"
  }
 },
 "nbformat": 4,
 "nbformat_minor": 5
}
