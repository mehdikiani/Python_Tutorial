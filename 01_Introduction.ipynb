{
 "cells": [
  {
   "cell_type": "markdown",
   "id": "a854634b-93e1-4026-b0eb-016921faed2b",
   "metadata": {
    "jp-MarkdownHeadingCollapsed": true
   },
   "source": [
    "# <font color=\"blue\">1) Introduction to Python</font>"
   ]
  },
  {
   "cell_type": "markdown",
   "id": "aa26d868-dd1f-4f37-bba8-8c13a09c69d1",
   "metadata": {},
   "source": [
    "1. What is Python?\n",
    "2. History of Python\n",
    "3. Features of Python (Simple, Interpreted, High-level, etc.)\n",
    "4. Installing Python and Setting Up the Environment\n",
    "5. Running Python Programs (Interactive Shell, Scripts)"
   ]
  },
  {
   "cell_type": "markdown",
   "id": "46ddd539-f3c5-4df4-8ead-91948190a08b",
   "metadata": {},
   "source": [
    "# <font color=\"blue\">2) What is Python?</font>\n",
    "\n"
   ]
  },
  {
   "cell_type": "markdown",
   "id": "b52bd55a-4815-478d-8efb-df6e919a4e76",
   "metadata": {},
   "source": [
    "Python is a high-level, interpreted programming language known for its simplicity and readability. It was created by **Guido van Rossum** and first released in **1991**. Python emphasizes code readability and allows developers to express concepts in fewer lines of code compared to other languages like C++ or Java.\n",
    "\n",
    "## Key Features of Python:\n",
    "1. **Easy to Learn**: Python has a simple and intuitive syntax, making it ideal for beginners.\n",
    "2. **Interpreted**: Python code is executed line by line, which makes debugging easier.\n",
    "3. **Cross-Platform**: Python runs on various platforms like Windows, macOS, Linux, etc.\n",
    "4. **Versatile**: Python is used in web development, data science, machine learning, automation, and more.\n",
    "5. **Large Standard Library**: Python comes with a rich set of built-in modules and libraries for various tasks.\n",
    "6. **Open Source**: Python is free to use and distribute, even for commercial purposes.\n",
    "\n",
    "## Example Code:\n",
    "Here’s a simple Python program to print \"Hello, World!\":\n",
    "\n",
    "```python\n",
    "# This is a simple Python program\n",
    "print(\"Hello, World!\")"
   ]
  },
  {
   "cell_type": "code",
   "execution_count": 1,
   "id": "8b43a665-55f1-4dda-bc88-84a804307fda",
   "metadata": {},
   "outputs": [
    {
     "name": "stdout",
     "output_type": "stream",
     "text": [
      "Hello, World!\n"
     ]
    }
   ],
   "source": [
    "print(\"Hello, World!\")"
   ]
  },
  {
   "cell_type": "markdown",
   "id": "417d03fc-42da-49e0-8988-3efab47e55a7",
   "metadata": {
    "jp-MarkdownHeadingCollapsed": true
   },
   "source": [
    "# <font color=\"blue\">3) Why Learn Python?</font>\n"
   ]
  },
  {
   "cell_type": "markdown",
   "id": "cfdfb115-c310-4d07-b88f-ba1cd4cce6d2",
   "metadata": {},
   "source": [
    "1. **Beginner-Friendly:** Great for those new to programming.\n",
    "\n",
    "2. **Wide Applications:** Used in web development (Django, Flask), data analysis (Pandas, NumPy), machine learning (TensorFlow, Scikit-learn), and more.\n",
    "\n",
    "3. **Strong Community Support:** Python has a large and active community, making it easy to find help and resources.\n",
    "\n",
    "Python is a powerful yet simple language that is widely used across industries. Whether you're a beginner or an experienced developer, Python is a great choice for building a wide range of applications."
   ]
  },
  {
   "cell_type": "markdown",
   "id": "e8e2f354-c80e-4955-9c61-db8ea2f2c686",
   "metadata": {
    "jp-MarkdownHeadingCollapsed": true
   },
   "source": [
    "# <font color=\"blue\">4) History of Python</font>\n",
    "\n"
   ]
  },
  {
   "cell_type": "markdown",
   "id": "cfdb9936-998d-4479-aef9-b7e3f0832cc9",
   "metadata": {},
   "source": [
    "Python is a programming language with a rich history that dates back to the late 1980s. It was created by **Guido van Rossum**, a Dutch programmer, who wanted to design a language that was both easy to read and powerful. Here’s a brief timeline of Python’s history:\n",
    "\n",
    "## Key Milestones in Python’s History:\n",
    "1. **1989**: Guido van Rossum began working on Python as a successor to the ABC language, aiming to address its shortcomings.\n",
    "2. **1991**: Python 0.9.0 was released, featuring basic functionality like exception handling, functions, and core data types (lists, dicts, strings).\n",
    "3. **1994**: Python 1.0 was released, introducing functional programming tools like `lambda`, `map`, `filter`, and `reduce`.\n",
    "4. **2000**: Python 2.0 was released, adding features like list comprehensions, garbage collection, and the `unicode` type.\n",
    "5. **2008**: Python 3.0 was released, a major update that was not backward-compatible with Python 2. It focused on removing redundancy and improving code readability.\n",
    "6. **2020**: Python 2.7, the last version of Python 2, reached its end of life, and the community fully transitioned to Python 3.\n",
    "\n",
    "## Why the Name \"Python\"?\n",
    "Guido van Rossum named the language after the British comedy series **\"Monty Python’s Flying Circus\"**, as he was a fan of the show. The name reflects the language’s fun and approachable nature.\n",
    "\n",
    "## Python’s Growth:\n",
    "- Python has grown into one of the most popular programming languages in the world.\n",
    "- It is widely used in web development, data science, artificial intelligence, scientific computing, and more.\n",
    "- Python’s simplicity and versatility have made it a favorite among beginners and experts alike.\n",
    "\n",
    "## Example Code:\n",
    "Here’s a simple Python program to calculate the sum of two numbers, showcasing Python’s readability:\n",
    "\n",
    "```python\n",
    "# This is a simple Python program to add two numbers\n",
    "a = 5\n",
    "b = 10\n",
    "sum = a + b\n",
    "print(f\"The sum of {a} and {b} is {sum}\")"
   ]
  },
  {
   "cell_type": "code",
   "execution_count": 2,
   "id": "cad2043d-9827-4a4c-8e03-127dea698536",
   "metadata": {},
   "outputs": [
    {
     "name": "stdout",
     "output_type": "stream",
     "text": [
      "The sum of 5 and 10 is 15\n"
     ]
    }
   ],
   "source": [
    "a = 5\n",
    "b = 10\n",
    "sum = a + b\n",
    "print(f\"The sum of {a} and {b} is {sum}\")"
   ]
  },
  {
   "cell_type": "markdown",
   "id": "43b353a6-aefa-44a7-9411-ff813beb3a68",
   "metadata": {
    "jp-MarkdownHeadingCollapsed": true
   },
   "source": [
    "# <font color=\"blue\">5) Features of Python</font>"
   ]
  },
  {
   "cell_type": "markdown",
   "id": "4804d2bb-c1de-4651-8828-993f08590378",
   "metadata": {},
   "source": [
    "Python is a versatile and powerful programming language that stands out due to its unique features. These features make Python a popular choice for beginners and professionals alike. Below are some of the key features of Python:\n",
    "\n",
    "## 1. **Simple and Easy to Learn**\n",
    "   - Python has a clean and readable syntax, similar to the English language.\n",
    "   - It emphasizes simplicity, making it an excellent choice for beginners.\n",
    "   - Example:\n",
    "     ```python\n",
    "     # Simple Python code to print numbers\n",
    "     for i in range(5):\n",
    "         print(i)\n",
    "     ```\n",
    "\n",
    "## 2. **Interpreted Language**\n",
    "   - Python is an interpreted language, meaning the code is executed line by line.\n",
    "   - This makes debugging easier and allows for immediate feedback during development.\n",
    "   - Example:\n",
    "     ```python\n",
    "     # No need to compile; just run the code directly\n",
    "     print(\"Hello, Python!\")\n",
    "     ```\n",
    "\n",
    "## 3. **High-Level Language**\n",
    "   - Python abstracts low-level details like memory management, making it easier to focus on problem-solving.\n",
    "   - Developers don’t need to worry about hardware-specific details.\n",
    "\n",
    "## 4. **Cross-Platform Compatibility**\n",
    "   - Python is portable and runs on various platforms, including Windows, macOS, Linux, and more.\n",
    "   - Code written on one platform can easily run on another without modification.\n",
    "\n",
    "## 5. **Dynamically Typed**\n",
    "   - Python does not require explicit declaration of variable types.\n",
    "   - The type of a variable is determined at runtime.\n",
    "   - Example:\n",
    "     ```python\n",
    "     # Dynamic typing in Python\n",
    "     x = 10        # x is an integer\n",
    "     x = \"Python\"  # x is now a string\n",
    "     print(x)\n",
    "     ```\n",
    "\n",
    "## 6. **Large Standard Library**\n",
    "   - Python comes with a rich set of built-in modules and libraries for tasks like file handling, web development, data analysis, and more.\n",
    "   - Example:\n",
    "     ```python\n",
    "     # Using the math module from the standard library\n",
    "     import math\n",
    "     print(math.sqrt(16))  # Output: 4.0\n",
    "     ```\n",
    "\n",
    "## 7. **Object-Oriented and Procedural**\n",
    "   - Python supports both object-oriented programming (OOP) and procedural programming paradigms.\n",
    "   - Example (OOP):\n",
    "     ```python\n",
    "     # A simple class in Python\n",
    "     class Dog:\n",
    "         def __init__(self, name):\n",
    "             self.name = name\n",
    "         def bark(self):\n",
    "             print(f\"{self.name} says woof!\")\n",
    "\n",
    "     my_dog = Dog(\"Buddy\")\n",
    "     my_dog.bark()\n",
    "     ```\n",
    "\n",
    "## 8. **Extensible and Embeddable**\n",
    "   - Python can be extended with C/C++ for performance-critical tasks.\n",
    "   - It can also be embedded into other applications to provide scripting capabilities.\n",
    "\n",
    "## 9. **Open Source and Free**\n",
    "   - Python is open-source, meaning anyone can use, modify, and distribute it freely.\n",
    "   - It has a large and active community that contributes to its development.\n",
    "\n",
    "## 10. **Versatile Applications**\n",
    "   - Python is used in a wide range of fields, including:\n",
    "     - Web Development (Django, Flask)\n",
    "     - Data Science and Machine Learning (Pandas, NumPy, TensorFlow)\n",
    "     - Automation and Scripting\n",
    "     - Scientific Computing\n",
    "     - Game Development (Pygame)\n",
    "\n",
    "## Example Code:\n",
    "Here’s a simple Python program that demonstrates some of these features:\n",
    "\n",
    "```python\n",
    "# A Python program showcasing simplicity, dynamic typing, and standard library usage\n",
    "import random\n",
    "\n",
    "# Dynamic typing\n",
    "greeting = \"Hello, Python!\"\n",
    "print(greeting)\n",
    "\n",
    "# Using the random module\n",
    "number = random.randint(1, 10)\n",
    "print(f\"Random number between 1 and 10: {number}\")"
   ]
  },
  {
   "cell_type": "code",
   "execution_count": 3,
   "id": "d662567a-a52b-4ba7-b355-7ded6dc10ccb",
   "metadata": {},
   "outputs": [
    {
     "name": "stdout",
     "output_type": "stream",
     "text": [
      "The value of a is 10\n",
      "The value of a is Welcome to python programming!\n"
     ]
    }
   ],
   "source": [
    "# Sample code\n",
    "\n",
    "#dynamic typing\n",
    "a = 10 # a is an integer variable\n",
    "print(f\"The value of a is {a}\")\n",
    "\n",
    "a = \"Welcome to python programming!\" # a is now a string variable\n",
    "print(f\"The value of a is {a}\")\n"
   ]
  },
  {
   "cell_type": "code",
   "execution_count": 4,
   "id": "c8abcfd5-b281-458b-bbcb-0290935c8e06",
   "metadata": {},
   "outputs": [
    {
     "name": "stdout",
     "output_type": "stream",
     "text": [
      "The value of a is 7\n"
     ]
    }
   ],
   "source": [
    "# Sample code\n",
    "\n",
    "# using standard library\n",
    "import random\n",
    "\n",
    "a = random.randint(1,10) # a is now a random variable between 1 and 10\n",
    "print(f\"The value of a is {a}\")\n",
    "\n"
   ]
  },
  {
   "cell_type": "code",
   "execution_count": 5,
   "id": "d7941ca7-99da-4350-b5ea-cc0f36d39998",
   "metadata": {},
   "outputs": [
    {
     "name": "stdout",
     "output_type": "stream",
     "text": [
      "My name is jessi Hahahaaaaaa!!!\n"
     ]
    }
   ],
   "source": [
    "# Sample code\n",
    "\n",
    "\n",
    "# Object Oriented Programming\n",
    "\n",
    "class Dog:\n",
    "    def __init__(self,name):\n",
    "        self.name =name\n",
    "    def say_somthing(self):\n",
    "        print(f\"My name is {self.name} Hahahaaaaaa!!!\")\n",
    "\n",
    "my_dog = Dog('jessi')\n",
    "my_dog.say_somthing()\n"
   ]
  },
  {
   "cell_type": "markdown",
   "id": "6738173a-5406-4876-9006-3e3035d87d14",
   "metadata": {},
   "source": [
    "# <font color=\"blue\">6) Installing Python and Setting Up the Environment</font>\n",
    "\n"
   ]
  },
  {
   "cell_type": "markdown",
   "id": "80c58a42-4b61-47db-b857-dc0f660817fb",
   "metadata": {},
   "source": [
    "To start programming in Python, you need to install Python and set up your development environment. This section will guide you through the process step by step.\n",
    "\n",
    "---\n",
    "\n",
    "## 1. **Installing Python**\n",
    "Python can be installed on various operating systems, including Windows, macOS, and Linux. Here’s how to install it:\n",
    "\n",
    "### **On Windows:**\n",
    "1. Go to the official Python website: [python.org](https://www.python.org/).\n",
    "2. Navigate to the **Downloads** section and download the latest version of Python for Windows.\n",
    "3. Run the installer and make sure to check the box that says **\"Add Python to PATH\"** during installation.\n",
    "4. Click **Install Now** and wait for the installation to complete.\n",
    "\n",
    "### **On macOS:**\n",
    "1. macOS usually comes with a pre-installed version of Python, but it’s often outdated.\n",
    "2. Download the latest version of Python from [python.org](https://www.python.org/).\n",
    "3. Run the installer and follow the instructions.\n",
    "4. Alternatively, you can use **Homebrew** to install Python:\n",
    "\n",
    "   ```bash\n",
    "   brew install python\n",
    "\n",
    "## 2. **Verifying the Installation**\n",
    "After installation, verify that Python is installed correctly by opening a terminal or command prompt and running:\n",
    "   ```bash\n",
    "    python3 --version\n"
   ]
  },
  {
   "cell_type": "markdown",
   "id": "1cd7ea05-4189-4f52-aac3-3f2f401f3a10",
   "metadata": {
    "jp-MarkdownHeadingCollapsed": true
   },
   "source": [
    "# <font color=\"blue\">7) Installing Python and Setting Up the Environment Using Conda</font>"
   ]
  },
  {
   "cell_type": "markdown",
   "id": "03d7ca3f-d8e8-478c-8772-e34f947ab0a3",
   "metadata": {},
   "source": [
    "Conda is a popular package and environment management system, especially for data science and scientific computing. It is part of the **Anaconda** and **Miniconda** distributions, which simplify Python installation and package management. Below is a step-by-step guide to installing Python and setting up your environment using Conda.\n",
    "\n",
    "---\n",
    "\n",
    "## 1. **What is Conda?**\n",
    "- Conda is an open-source package and environment management system.\n",
    "- It allows you to install Python, manage packages, and create isolated environments for different projects.\n",
    "- Conda is included in the **Anaconda** distribution (which comes with many pre-installed packages) and **Miniconda** (a lightweight version with only Conda and Python).\n",
    "\n",
    "---\n",
    "\n",
    "## 2. **Installing Conda**\n",
    "### **Option 1: Install Anaconda**\n",
    "1. Go to the [Anaconda website](https://www.anaconda.com/products/distribution).\n",
    "2. Download the installer for your operating system (Windows, macOS, or Linux).\n",
    "3. Run the installer and follow the instructions.\n",
    "4. During installation, choose whether to add Conda to your system PATH (recommended for easier access).\n",
    "\n",
    "### **Option 2: Install Miniconda**\n",
    "1. Go to the [Miniconda website](https://docs.conda.io/en/latest/miniconda.html).\n",
    "2. Download the installer for your operating system.\n",
    "3. Run the installer and follow the instructions.\n",
    "4. Choose whether to add Conda to your system PATH.\n",
    "\n",
    "---\n",
    "\n",
    "## 3. **Verifying the Installation**\n",
    "After installation, open a terminal or command prompt and run:\n",
    "```bash\n",
    "conda --version"
   ]
  },
  {
   "cell_type": "code",
   "execution_count": 6,
   "id": "22c6936f-15f6-443f-86df-df2d4d38e66b",
   "metadata": {},
   "outputs": [
    {
     "name": "stdout",
     "output_type": "stream",
     "text": [
      "conda 24.11.3\n",
      "\n",
      "Note: you may need to restart the kernel to use updated packages.\n"
     ]
    }
   ],
   "source": [
    "conda --version"
   ]
  }
 ],
 "metadata": {
  "kernelspec": {
   "display_name": "Python 3 (ipykernel)",
   "language": "python",
   "name": "python3"
  },
  "language_info": {
   "codemirror_mode": {
    "name": "ipython",
    "version": 3
   },
   "file_extension": ".py",
   "mimetype": "text/x-python",
   "name": "python",
   "nbconvert_exporter": "python",
   "pygments_lexer": "ipython3",
   "version": "3.12.3"
  }
 },
 "nbformat": 4,
 "nbformat_minor": 5
}
